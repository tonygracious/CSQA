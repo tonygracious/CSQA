{
 "cells": [
  {
   "cell_type": "code",
   "execution_count": 1,
   "metadata": {},
   "outputs": [],
   "source": [
    "import torch\n",
    "import torch.nn as nn\n",
    "import numpy as np\n",
    "\n",
    "import os\n",
    "os.environ['CUDA_VISIBLE_DEVICES'] = \"1, 2, 3\""
   ]
  },
  {
   "cell_type": "code",
   "execution_count": 3,
   "metadata": {},
   "outputs": [],
   "source": [
    "class Arguments:\n",
    "    res_path = './results'\n",
    "    model_path = './models'\n",
    "    epoch  = 20\n",
    "    patience = -1\n",
    "    teacher = False\n",
    "    bidi = False\n",
    "    test = False\n",
    "    shrd_dec_emb = False \n",
    "    btstrp  = None \n",
    "    lm = False \n",
    "    toy = False \n",
    "    pretty = False \n",
    "    mmi = False\n",
    "    seq2seq = False \n",
    "    drp = 0.3\n",
    "    num_lyr = 1\n",
    "    lr = 0.0001\n",
    "    bt_siz = 138\n",
    "    beam = 1\n",
    "    vocab_size = 50005 \n",
    "    response_vocab_size = 32149\n",
    "    emb_size = 300\n",
    "    hid_size = 256\n",
    "    ut_hid_size = 256\n",
    "    ses_hid_size = 512\n",
    "    dec_hid_size = 512\n",
    "    kb_embed_size = 100\n",
    "    kb_size = 9274341\n",
    "    kb_relations_size= 571\n",
    "    use_embed = True\n",
    "\n",
    "\n"
   ]
  },
  {
   "cell_type": "code",
   "execution_count": 4,
   "metadata": {},
   "outputs": [],
   "source": [
    "options = Arguments()"
   ]
  },
  {
   "cell_type": "code",
   "execution_count": 5,
   "metadata": {},
   "outputs": [],
   "source": [
    "\n",
    "ent_embed = np.load('transe_dir/ent_embed.pkl.npy')\n",
    "rel_embed = np.load('transe_dir/rel_embed.pkl.npy')\n",
    "\n",
    "new_row = np.zeros((1,100), dtype=np.float32)\n",
    "    \n",
    "ent_embed = np.vstack([new_row, ent_embed]) # corr. to <pad_kb>\n",
    "ent_embed = np.vstack([new_row, ent_embed]) # corr. to <nkb>\n",
    "\n",
    "rel_embed = np.vstack([new_row, rel_embed]) # corr. to <pad_kb>\n",
    "rel_embed = np.vstack([new_row, rel_embed]) \n",
    "\n"
   ]
  },
  {
   "cell_type": "code",
   "execution_count": 6,
   "metadata": {},
   "outputs": [],
   "source": [
    "def mini_batch_processing(mini_batch):\n",
    "    mem_size = len(mini_batch[0][6].split('|'))\n",
    "    if mem_size > 10000 :\n",
    "        mem_size =  10000\n",
    "    u1_text = np.array([s[0][0] for s in mini_batch])\n",
    "    u1_kb   = np.array([s[1][0] for s in mini_batch])\n",
    "    u2_text = np.array([s[0][1] for s in mini_batch] )\n",
    "    u2_kb   = np.array([s[1][1] for s in mini_batch])\n",
    "    target_kb = np.array([s[2] for s in mini_batch])\n",
    "    target_utterance = np.array([s[3] for s in mini_batch])\n",
    "    cand_ent =  [ [int(i) for i in s[6].split('|')] for s in mini_batch]\n",
    "    cand_ent =  [ s[:-1][:mem_size-1]+[1]  for s in cand_ent]\n",
    "    cand_ent =  np.array([ s + [0]*(mem_size-len(s)) for s in cand_ent])\n",
    "    \n",
    "    cand_rel =  [ [int(i) for i in s[7].split('|')] for s in mini_batch]\n",
    "    cand_rel =  [ s[:-1][:mem_size-1]+[1]  for s in cand_rel]\n",
    "    cand_rel =  np.array([ s + [0]*(mem_size - len(s)) for s in cand_rel])\n",
    "    \n",
    "    cand_val =  [ [int(i) for i in s[8].split('|')] for s in mini_batch]\n",
    "    cand_val =  [ s[:-1][:mem_size-1]+[1]  for s in cand_val]\n",
    "    cand_val =  np.array([s + [0]*(mem_size-len(s)) for s in cand_val])\n",
    "    \n",
    "    mem_weights = ((cand_val!=0) * (cand_val!=1) ).astype(int)\n",
    "    '''\n",
    "   \n",
    "    labels = []\n",
    "    candidates = []\n",
    "    for i in range(64):\n",
    "        positive_samples_i =list( set(target_kb[i])-{0})\n",
    "        labels_i = [1]*len(positive_samples_i)\n",
    "        negative_samples_i = list(set(cand_val[i])-(set(target_kb[i])-{0}) )\n",
    "        if len(negative_samples_i) > 0:\n",
    "            negative_samples_subset_i  = list( np.random.choice(negative_samples_i,20 - len(labels_i)) )\n",
    "        else :\n",
    "            negative_samples_subset_i =[]\n",
    "\n",
    "        labels_i = labels_i + [0] *(20 - len(labels_i))\n",
    "        candidates_i = positive_samples_i + negative_samples_subset_i\n",
    "        candidates_i = candidates_i + (20-len(candidates_i)) *[0]\n",
    "\n",
    "        labels.append(labels_i)\n",
    "        candidates.append( candidates_i )\n",
    "    \n",
    "    c = np.array(labels)\n",
    "    candidates_pred = np.array(candidates)\n",
    "    \n",
    "    '''\n",
    "    \n",
    "    b , l = cand_val.shape\n",
    "    c = np.zeros((b, l))\n",
    "    for i in range(b):\n",
    "        for j in range(l):\n",
    "            c[i,j] = int( (cand_val[i,j] in target_kb[i]) and cand_val[i,j] != 0) \n",
    "    \n",
    "    \n",
    "    \n",
    "    return(u1_text, u1_kb, u2_text, u2_kb, target_kb, target_utterance,  cand_ent, cand_rel, cand_val,c, mem_weights)\n"
   ]
  },
  {
   "cell_type": "code",
   "execution_count": 7,
   "metadata": {},
   "outputs": [],
   "source": [
    "loss_dec =  nn.CrossEntropyLoss(size_average=False, ignore_index=3)\n",
    "softmax = nn.Softmax(dim = 1)"
   ]
  },
  {
   "cell_type": "code",
   "execution_count": 8,
   "metadata": {},
   "outputs": [],
   "source": [
    "from model import  *"
   ]
  },
  {
   "cell_type": "code",
   "execution_count": 9,
   "metadata": {},
   "outputs": [],
   "source": [
    "import os"
   ]
  },
  {
   "cell_type": "code",
   "execution_count": 10,
   "metadata": {},
   "outputs": [],
   "source": [
    "def padded_candidates(t):\n",
    "    n_samples = len(t)\n",
    "    \n",
    "    for i in range(n_samples):\n",
    "        cand = t[i][6].split('|')[:-1]\n",
    "        n_cand = len(cand)\n",
    "        if n_cand  < 10:\n",
    "            t[i][6] = '|'.join( cand + ['0']*(9-n_cand)) +'|1'\n",
    "            cand = t[i][7].split('|')[:-1]\n",
    "            t[i][7] = '|'.join( cand + ['0']*(9-n_cand)) + '|1'\n",
    "            cand = t[i][8].split('|')[:-1]\n",
    "            t[i][8] = '|'.join( cand + ['0']*(9-n_cand)) + '|1'\n",
    "    return(t)"
   ]
  },
  {
   "cell_type": "code",
   "execution_count": 11,
   "metadata": {},
   "outputs": [],
   "source": [
    "training_files=[\"dump/\"+x for x in os.listdir(\"/home/tony/QA/dump\") if x.startswith('train_')]\n",
    "\n",
    "training_files = training_files+ [\"dump/\"+x for x in os.listdir(\"/home/tony/QA/dump\") \\\n",
    "                if x.startswith('valid_')]\n",
    "\n"
   ]
  },
  {
   "cell_type": "code",
   "execution_count": 12,
   "metadata": {},
   "outputs": [],
   "source": [
    "testing_file ='dump/test_preprocessed/test_data_file_verify.pkl'"
   ]
  },
  {
   "cell_type": "code",
   "execution_count": 13,
   "metadata": {},
   "outputs": [],
   "source": [
    "training_files =   training_files + [testing_file]"
   ]
  },
  {
   "cell_type": "code",
   "execution_count": 14,
   "metadata": {},
   "outputs": [],
   "source": [
    "import pickle as pkl"
   ]
  },
  {
   "cell_type": "code",
   "execution_count": 25,
   "metadata": {},
   "outputs": [],
   "source": [
    "model_ = model(options)"
   ]
  },
  {
   "cell_type": "markdown",
   "metadata": {},
   "source": [
    "model_.load_state_dict(torch.load('train.pt'))"
   ]
  },
  {
   "cell_type": "code",
   "execution_count": 26,
   "metadata": {},
   "outputs": [],
   "source": [
    "model_ = nn.DataParallel(model_).cuda()"
   ]
  },
  {
   "cell_type": "code",
   "execution_count": 27,
   "metadata": {},
   "outputs": [],
   "source": [
    "from torch import optim\n",
    "from tqdm import tqdm_notebook"
   ]
  },
  {
   "cell_type": "code",
   "execution_count": 28,
   "metadata": {},
   "outputs": [],
   "source": [
    "param_kg_loss = []\n",
    "param_dec_loss = []\n",
    "param_kg = []\n",
    "param_dec = []\n",
    "for t in model_.named_parameters():\n",
    "    if 'kg_predict' in t[0]  :\n",
    "        param_kg_loss.append(t[1])\n",
    "        param_kg.append(t[0])\n",
    "    elif 'dec' in t[0]:\n",
    "        param_dec_loss.append(t[1])\n",
    "        param_dec.append(t[0])\n",
    "    else:\n",
    "        param_kg_loss.append(t[1])\n",
    "        param_dec_loss.append(t[1])\n",
    "        param_dec.append(t[0])\n",
    "        param_kg.append(t[0])\n",
    "        "
   ]
  },
  {
   "cell_type": "code",
   "execution_count": 29,
   "metadata": {},
   "outputs": [],
   "source": [
    "optimizer_kg_loss = optim.Adam( param_kg_loss, options.lr)\n",
    "\n",
    "optimizer_dec_loss = optim.Adam( param_dec_loss, options.lr)\n"
   ]
  },
  {
   "cell_type": "code",
   "execution_count": 30,
   "metadata": {},
   "outputs": [],
   "source": [
    "optimizer = optim.Adam(model_.parameters(), options.lr)"
   ]
  },
  {
   "cell_type": "code",
   "execution_count": 31,
   "metadata": {},
   "outputs": [],
   "source": [
    "param = model_.parameters()"
   ]
  },
  {
   "cell_type": "code",
   "execution_count": 32,
   "metadata": {},
   "outputs": [],
   "source": [
    "total_loss = 0\n",
    "total_kg_loss = 0\n",
    "total_dec_loss = 0"
   ]
  },
  {
   "cell_type": "code",
   "execution_count": 33,
   "metadata": {},
   "outputs": [],
   "source": [
    "import math"
   ]
  },
  {
   "cell_type": "code",
   "execution_count": null,
   "metadata": {},
   "outputs": [
    {
     "data": {
      "application/vnd.jupyter.widget-view+json": {
       "model_id": "eff15cf47cae4464b9178e143cd53ce0",
       "version_major": 2,
       "version_minor": 0
      },
      "text/plain": [
       "HBox(children=(IntProgress(value=0, max=44), HTML(value=u'')))"
      ]
     },
     "metadata": {},
     "output_type": "display_data"
    },
    {
     "data": {
      "application/vnd.jupyter.widget-view+json": {
       "model_id": "c8101c522d434c8dafb9092f1e0e4cfd",
       "version_major": 2,
       "version_minor": 0
      },
      "text/plain": [
       "HBox(children=(IntProgress(value=0, max=140), HTML(value=u'')))"
      ]
     },
     "metadata": {},
     "output_type": "display_data"
    },
    {
     "name": "stdout",
     "output_type": "stream",
     "text": [
      "('loss in epoch :', 0, 'dump/train_13_1.pkl', 'loss :', 785.7559123415267, 'loss decoder: ', 771.9139225482941, 'loss kg: ', 13.841989793232642)\n"
     ]
    },
    {
     "data": {
      "application/vnd.jupyter.widget-view+json": {
       "model_id": "c039c476688e417796a2f168143a2099",
       "version_major": 2,
       "version_minor": 0
      },
      "text/plain": [
       "HBox(children=(IntProgress(value=0, max=151), HTML(value=u'')))"
      ]
     },
     "metadata": {},
     "output_type": "display_data"
    },
    {
     "name": "stdout",
     "output_type": "stream",
     "text": [
      "('loss in epoch :', 0, 'dump/train_27_1.pkl', 'loss :', 1368.2612514452194, 'loss decoder: ', 1339.8430135250092, 'loss kg: ', 28.41823792021023)\n"
     ]
    },
    {
     "data": {
      "application/vnd.jupyter.widget-view+json": {
       "model_id": "2aef94af6e044668a47cd64211da6237",
       "version_major": 2,
       "version_minor": 0
      },
      "text/plain": [
       "HBox(children=(IntProgress(value=0, max=142), HTML(value=u'')))"
      ]
     },
     "metadata": {},
     "output_type": "display_data"
    },
    {
     "name": "stdout",
     "output_type": "stream",
     "text": [
      "('loss in epoch :', 0, 'dump/train_10_1.pkl', 'loss :', 1894.25048698904, 'loss decoder: ', 1853.4829034805298, 'loss kg: ', 40.76758350851014)\n"
     ]
    },
    {
     "data": {
      "application/vnd.jupyter.widget-view+json": {
       "model_id": "0c4c77fa71e642c18864b946252fd7a4",
       "version_major": 2,
       "version_minor": 0
      },
      "text/plain": [
       "HBox(children=(IntProgress(value=0, max=145), HTML(value=u'')))"
      ]
     },
     "metadata": {},
     "output_type": "display_data"
    },
    {
     "name": "stdout",
     "output_type": "stream",
     "text": [
      "('loss in epoch :', 0, 'dump/train_26_1.pkl', 'loss :', 2406.844769820629, 'loss decoder: ', 2353.964730501175, 'loss kg: ', 52.88003931945423)\n"
     ]
    },
    {
     "data": {
      "application/vnd.jupyter.widget-view+json": {
       "model_id": "eb75a2843afd42c5aec3f898fa1dadb1",
       "version_major": 2,
       "version_minor": 0
      },
      "text/plain": [
       "HBox(children=(IntProgress(value=0, max=143), HTML(value=u'')))"
      ]
     },
     "metadata": {},
     "output_type": "display_data"
    },
    {
     "name": "stdout",
     "output_type": "stream",
     "text": [
      "('loss in epoch :', 0, 'dump/train_3_1.pkl', 'loss :', 2899.838330135448, 'loss decoder: ', 2834.484565973282, 'loss kg: ', 65.35376416216604)\n"
     ]
    },
    {
     "data": {
      "application/vnd.jupyter.widget-view+json": {
       "model_id": "3706b926e4484d3290dfdf0ab4b564fd",
       "version_major": 2,
       "version_minor": 0
      },
      "text/plain": [
       "HBox(children=(IntProgress(value=0, max=136), HTML(value=u'')))"
      ]
     },
     "metadata": {},
     "output_type": "display_data"
    },
    {
     "name": "stdout",
     "output_type": "stream",
     "text": [
      "('loss in epoch :', 0, 'dump/train_2_1.pkl', 'loss :', 3355.5533420625725, 'loss decoder: ', 3279.133389234543, 'loss kg: ', 76.41995282802964)\n"
     ]
    },
    {
     "data": {
      "application/vnd.jupyter.widget-view+json": {
       "model_id": "bf240fdc3a5a483d91c8d02f50f594fc",
       "version_major": 2,
       "version_minor": 0
      },
      "text/plain": [
       "HBox(children=(IntProgress(value=0, max=138), HTML(value=u'')))"
      ]
     },
     "metadata": {},
     "output_type": "display_data"
    },
    {
     "name": "stdout",
     "output_type": "stream",
     "text": [
      "('loss in epoch :', 0, 'dump/train_16_1.pkl', 'loss :', 3809.3678872445016, 'loss decoder: ', 3721.8160779476166, 'loss kg: ', 87.55180929688504)\n"
     ]
    },
    {
     "data": {
      "application/vnd.jupyter.widget-view+json": {
       "model_id": "483ab756ece14101b74842a57a23e88b",
       "version_major": 2,
       "version_minor": 0
      },
      "text/plain": [
       "HBox(children=(IntProgress(value=0, max=147), HTML(value=u'')))"
      ]
     },
     "metadata": {},
     "output_type": "display_data"
    },
    {
     "name": "stdout",
     "output_type": "stream",
     "text": [
      "('loss in epoch :', 0, 'dump/train_25_1.pkl', 'loss :', 4296.537427209609, 'loss decoder: ', 4195.951792240143, 'loss kg: ', 100.5856349694659)\n"
     ]
    },
    {
     "data": {
      "application/vnd.jupyter.widget-view+json": {
       "model_id": "ec1ae077b1d14560a542543aafaae678",
       "version_major": 2,
       "version_minor": 0
      },
      "text/plain": [
       "HBox(children=(IntProgress(value=0, max=115), HTML(value=u'')))"
      ]
     },
     "metadata": {},
     "output_type": "display_data"
    },
    {
     "name": "stdout",
     "output_type": "stream",
     "text": [
      "('loss in epoch :', 0, 'dump/train_30_1.pkl', 'loss :', 4665.176387752406, 'loss decoder: ', 4554.239057064056, 'loss kg: ', 110.9373306883499)\n"
     ]
    },
    {
     "data": {
      "application/vnd.jupyter.widget-view+json": {
       "model_id": "abe8ed5690d744d4a40f5b9cbba906b6",
       "version_major": 2,
       "version_minor": 0
      },
      "text/plain": [
       "HBox(children=(IntProgress(value=0, max=135), HTML(value=u'')))"
      ]
     },
     "metadata": {},
     "output_type": "display_data"
    },
    {
     "name": "stdout",
     "output_type": "stream",
     "text": [
      "('loss in epoch :', 0, 'dump/train_0_1.pkl', 'loss :', 5097.615835891047, 'loss decoder: ', 4976.292098045349, 'loss kg: ', 121.3237378456979)\n"
     ]
    },
    {
     "data": {
      "application/vnd.jupyter.widget-view+json": {
       "model_id": "33323f5318ad4252af039b5f23c13434",
       "version_major": 2,
       "version_minor": 0
      },
      "text/plain": [
       "HBox(children=(IntProgress(value=0, max=152), HTML(value=u'')))"
      ]
     },
     "metadata": {},
     "output_type": "display_data"
    },
    {
     "name": "stdout",
     "output_type": "stream",
     "text": [
      "('loss in epoch :', 0, 'dump/train_1_1.pkl', 'loss :', 5582.885762232356, 'loss decoder: ', 5449.724942207336, 'loss kg: ', 133.16082002501935)\n"
     ]
    },
    {
     "data": {
      "application/vnd.jupyter.widget-view+json": {
       "model_id": "a454dbbeaedd4c85adcf280676a92029",
       "version_major": 2,
       "version_minor": 0
      },
      "text/plain": [
       "HBox(children=(IntProgress(value=0, max=138), HTML(value=u'')))"
      ]
     },
     "metadata": {},
     "output_type": "display_data"
    },
    {
     "name": "stdout",
     "output_type": "stream",
     "text": [
      "('loss in epoch :', 0, 'dump/train_20_1.pkl', 'loss :', 6012.030993368768, 'loss decoder: ', 5867.431763887405, 'loss kg: ', 144.59922948136227)\n"
     ]
    },
    {
     "data": {
      "application/vnd.jupyter.widget-view+json": {
       "model_id": "ede2125a482843c38140cd0d869b31c9",
       "version_major": 2,
       "version_minor": 0
      },
      "text/plain": [
       "HBox(children=(IntProgress(value=0, max=148), HTML(value=u'')))"
      ]
     },
     "metadata": {},
     "output_type": "display_data"
    },
    {
     "name": "stdout",
     "output_type": "stream",
     "text": [
      "('loss in epoch :', 0, 'dump/train_21_1.pkl', 'loss :', 6465.854568186041, 'loss decoder: ', 6310.15496301651, 'loss kg: ', 155.69960516953142)\n"
     ]
    },
    {
     "data": {
      "application/vnd.jupyter.widget-view+json": {
       "model_id": "65e91ae11bbb4972b0d0a3620f8a8df4",
       "version_major": 2,
       "version_minor": 0
      },
      "text/plain": [
       "HBox(children=(IntProgress(value=0, max=127), HTML(value=u'')))"
      ]
     },
     "metadata": {},
     "output_type": "display_data"
    },
    {
     "name": "stdout",
     "output_type": "stream",
     "text": [
      "('loss in epoch :', 0, 'dump/train_28_1.pkl', 'loss :', 6855.731873649755, 'loss decoder: ', 6690.340505361557, 'loss kg: ', 165.39136828819755)\n"
     ]
    },
    {
     "data": {
      "application/vnd.jupyter.widget-view+json": {
       "model_id": "bc3173e055604ad9b2e2c1701babf684",
       "version_major": 2,
       "version_minor": 0
      },
      "text/plain": [
       "HBox(children=(IntProgress(value=0, max=146), HTML(value=u'')))"
      ]
     },
     "metadata": {},
     "output_type": "display_data"
    },
    {
     "name": "stdout",
     "output_type": "stream",
     "text": [
      "('loss in epoch :', 0, 'dump/train_14_1.pkl', 'loss :', 7306.286718648684, 'loss decoder: ', 7129.89080286026, 'loss kg: ', 176.39591578842374)\n"
     ]
    },
    {
     "data": {
      "application/vnd.jupyter.widget-view+json": {
       "model_id": "33898bea848e4d40a2b90ca14f9a87d7",
       "version_major": 2,
       "version_minor": 0
      },
      "text/plain": [
       "HBox(children=(IntProgress(value=0, max=137), HTML(value=u'')))"
      ]
     },
     "metadata": {},
     "output_type": "display_data"
    },
    {
     "name": "stdout",
     "output_type": "stream",
     "text": [
      "('loss in epoch :', 0, 'dump/train_23_1.pkl', 'loss :', 7722.2084931781865, 'loss decoder: ', 7535.596806526184, 'loss kg: ', 186.6116866520024)\n"
     ]
    },
    {
     "data": {
      "application/vnd.jupyter.widget-view+json": {
       "model_id": "9f78c9cc95134eccbf99a69d7ff1e369",
       "version_major": 2,
       "version_minor": 0
      },
      "text/plain": [
       "HBox(children=(IntProgress(value=0, max=144), HTML(value=u'')))"
      ]
     },
     "metadata": {},
     "output_type": "display_data"
    },
    {
     "name": "stdout",
     "output_type": "stream",
     "text": [
      "('loss in epoch :', 0, 'dump/train_11_1.pkl', 'loss :', 8152.7458778170985, 'loss decoder: ', 7955.082224845886, 'loss kg: ', 197.6636529712123)\n"
     ]
    },
    {
     "data": {
      "application/vnd.jupyter.widget-view+json": {
       "model_id": "927b19c9e4594236a51693cc33273ded",
       "version_major": 2,
       "version_minor": 0
      },
      "text/plain": [
       "HBox(children=(IntProgress(value=0, max=142), HTML(value=u'')))"
      ]
     },
     "metadata": {},
     "output_type": "display_data"
    },
    {
     "name": "stdout",
     "output_type": "stream",
     "text": [
      "('loss in epoch :', 0, 'dump/train_18_1.pkl', 'loss :', 8575.509691424144, 'loss decoder: ', 8363.989740848541, 'loss kg: ', 211.5199505756027)\n"
     ]
    },
    {
     "data": {
      "application/vnd.jupyter.widget-view+json": {
       "model_id": "c83488385d5a463d9006d07905e1a9c1",
       "version_major": 2,
       "version_minor": 0
      },
      "text/plain": [
       "HBox(children=(IntProgress(value=0, max=138), HTML(value=u'')))"
      ]
     },
     "metadata": {},
     "output_type": "display_data"
    },
    {
     "name": "stdout",
     "output_type": "stream",
     "text": [
      "('loss in epoch :', 0, 'dump/train_12_1.pkl', 'loss :', 8985.398878398002, 'loss decoder: ', 8763.703063488007, 'loss kg: ', 221.69581490999553)\n"
     ]
    },
    {
     "data": {
      "application/vnd.jupyter.widget-view+json": {
       "model_id": "949a75f16c414c4a882c631737e91d30",
       "version_major": 2,
       "version_minor": 0
      },
      "text/plain": [
       "HBox(children=(IntProgress(value=0, max=136), HTML(value=u'')))"
      ]
     },
     "metadata": {},
     "output_type": "display_data"
    },
    {
     "name": "stdout",
     "output_type": "stream",
     "text": [
      "('loss in epoch :', 0, 'dump/train_29_1.pkl', 'loss :', 9379.3493073922, 'loss decoder: ', 9147.618549346924, 'loss kg: ', 231.73075804527616)\n"
     ]
    },
    {
     "data": {
      "application/vnd.jupyter.widget-view+json": {
       "model_id": "3a3f1b612a504b56b745c408d643d167",
       "version_major": 2,
       "version_minor": 0
      },
      "text/plain": [
       "HBox(children=(IntProgress(value=0, max=143), HTML(value=u'')))"
      ]
     },
     "metadata": {},
     "output_type": "display_data"
    },
    {
     "name": "stdout",
     "output_type": "stream",
     "text": [
      "('loss in epoch :', 0, 'dump/train_22_1.pkl', 'loss :', 9791.842101544782, 'loss decoder: ', 9549.427406311035, 'loss kg: ', 242.4146952337469)\n"
     ]
    },
    {
     "data": {
      "application/vnd.jupyter.widget-view+json": {
       "model_id": "e0fd7cd2c3344c6b9572f15a64694c80",
       "version_major": 2,
       "version_minor": 0
      },
      "text/plain": [
       "HBox(children=(IntProgress(value=0, max=159), HTML(value=u'')))"
      ]
     },
     "metadata": {},
     "output_type": "display_data"
    },
    {
     "name": "stdout",
     "output_type": "stream",
     "text": [
      "('loss in epoch :', 0, 'dump/train_19_1.pkl', 'loss :', 10242.14747475565, 'loss decoder: ', 9987.7253947258, 'loss kg: ', 254.4220800298499)\n"
     ]
    },
    {
     "data": {
      "application/vnd.jupyter.widget-view+json": {
       "model_id": "2d9e5498595d472ea20f9a5a29a577bb",
       "version_major": 2,
       "version_minor": 0
      },
      "text/plain": [
       "HBox(children=(IntProgress(value=0, max=135), HTML(value=u'')))"
      ]
     },
     "metadata": {},
     "output_type": "display_data"
    },
    {
     "name": "stdout",
     "output_type": "stream",
     "text": [
      "('loss in epoch :', 0, 'dump/train_24_1.pkl', 'loss :', 10623.542799012677, 'loss decoder: ', 10357.758199930191, 'loss kg: ', 265.78459908248624)\n"
     ]
    },
    {
     "data": {
      "application/vnd.jupyter.widget-view+json": {
       "model_id": "973c9be5387d42b4ac38b4c1d2874810",
       "version_major": 2,
       "version_minor": 0
      },
      "text/plain": [
       "HBox(children=(IntProgress(value=0, max=141), HTML(value=u'')))"
      ]
     },
     "metadata": {},
     "output_type": "display_data"
    },
    {
     "name": "stdout",
     "output_type": "stream",
     "text": [
      "('loss in epoch :', 0, 'dump/train_9_1.pkl', 'loss :', 11018.369807414594, 'loss decoder: ', 10741.90222465992, 'loss kg: ', 276.46758275467437)\n"
     ]
    },
    {
     "data": {
      "application/vnd.jupyter.widget-view+json": {
       "model_id": "3a7b628b818840418bd7de068854736a",
       "version_major": 2,
       "version_minor": 0
      },
      "text/plain": [
       "HBox(children=(IntProgress(value=0, max=147), HTML(value=u'')))"
      ]
     },
     "metadata": {},
     "output_type": "display_data"
    },
    {
     "name": "stdout",
     "output_type": "stream",
     "text": [
      "('loss in epoch :', 0, 'dump/train_6_1.pkl', 'loss :', 11426.468480409647, 'loss decoder: ', 11138.944784283638, 'loss kg: ', 287.5236961260089)\n"
     ]
    },
    {
     "data": {
      "application/vnd.jupyter.widget-view+json": {
       "model_id": "f41f802d60cc493fa2e350c8532c6984",
       "version_major": 2,
       "version_minor": 0
      },
      "text/plain": [
       "HBox(children=(IntProgress(value=0, max=144), HTML(value=u'')))"
      ]
     },
     "metadata": {},
     "output_type": "display_data"
    },
    {
     "name": "stdout",
     "output_type": "stream",
     "text": [
      "('loss in epoch :', 0, 'dump/train_4_1.pkl', 'loss :', 11821.330905287701, 'loss decoder: ', 11523.415466547012, 'loss kg: ', 297.91543874068884)\n"
     ]
    },
    {
     "data": {
      "application/vnd.jupyter.widget-view+json": {
       "model_id": "961b8f08500548a7a9ffa3bb6b777617",
       "version_major": 2,
       "version_minor": 0
      },
      "text/plain": [
       "HBox(children=(IntProgress(value=0, max=138), HTML(value=u'')))"
      ]
     },
     "metadata": {},
     "output_type": "display_data"
    },
    {
     "name": "stdout",
     "output_type": "stream",
     "text": [
      "('loss in epoch :', 0, 'dump/train_17_1.pkl', 'loss :', 12200.016179422906, 'loss decoder: ', 11891.656852960587, 'loss kg: ', 308.3593264623196)\n"
     ]
    },
    {
     "data": {
      "application/vnd.jupyter.widget-view+json": {
       "model_id": "6ce876c1918344c69910b08d22585103",
       "version_major": 2,
       "version_minor": 0
      },
      "text/plain": [
       "HBox(children=(IntProgress(value=0, max=144), HTML(value=u'')))"
      ]
     },
     "metadata": {},
     "output_type": "display_data"
    },
    {
     "name": "stdout",
     "output_type": "stream",
     "text": [
      "('loss in epoch :', 0, 'dump/train_5_1.pkl', 'loss :', 12585.925013777975, 'loss decoder: ', 12266.868271946907, 'loss kg: ', 319.0567418310675)\n"
     ]
    },
    {
     "data": {
      "application/vnd.jupyter.widget-view+json": {
       "model_id": "05c243a3f62240e8b48e6644df37f2f1",
       "version_major": 2,
       "version_minor": 0
      },
      "text/plain": [
       "HBox(children=(IntProgress(value=0, max=132), HTML(value=u'')))"
      ]
     },
     "metadata": {},
     "output_type": "display_data"
    },
    {
     "name": "stdout",
     "output_type": "stream",
     "text": [
      "('loss in epoch :', 0, 'dump/train_8_1.pkl', 'loss :', 12938.372578929528, 'loss decoder: ', 12609.956763148308, 'loss kg: ', 328.41581578121986)\n"
     ]
    },
    {
     "data": {
      "application/vnd.jupyter.widget-view+json": {
       "model_id": "fe726eb0ccb84c06a67c9d5f1b62a445",
       "version_major": 2,
       "version_minor": 0
      },
      "text/plain": [
       "HBox(children=(IntProgress(value=0, max=140), HTML(value=u'')))"
      ]
     },
     "metadata": {},
     "output_type": "display_data"
    },
    {
     "name": "stdout",
     "output_type": "stream",
     "text": [
      "('loss in epoch :', 0, 'dump/train_15_1.pkl', 'loss :', 13306.847053718928, 'loss decoder: ', 12968.433003902435, 'loss kg: ', 338.4140498164925)\n"
     ]
    },
    {
     "data": {
      "application/vnd.jupyter.widget-view+json": {
       "model_id": "220edffb2349498a9edfb403e2743c01",
       "version_major": 2,
       "version_minor": 0
      },
      "text/plain": [
       "HBox(children=(IntProgress(value=0, max=140), HTML(value=u'')))"
      ]
     },
     "metadata": {},
     "output_type": "display_data"
    },
    {
     "name": "stdout",
     "output_type": "stream",
     "text": [
      "('loss in epoch :', 0, 'dump/train_7_1.pkl', 'loss :', 13676.0731625841, 'loss decoder: ', 13327.40050804615, 'loss kg: ', 348.6726545379497)\n"
     ]
    },
    {
     "data": {
      "application/vnd.jupyter.widget-view+json": {
       "model_id": "7f6feaddac6b467082760f7fcb979cb7",
       "version_major": 2,
       "version_minor": 0
      },
      "text/plain": [
       "HBox(children=(IntProgress(value=0, max=36), HTML(value=u'')))"
      ]
     },
     "metadata": {},
     "output_type": "display_data"
    },
    {
     "name": "stdout",
     "output_type": "stream",
     "text": [
      "('loss in epoch :', 0, 'dump/valid_7_1.pkl', 'loss :', 13772.238363161625, 'loss decoder: ', 13419.181682109833, 'loss kg: ', 353.0566810517921)\n"
     ]
    },
    {
     "data": {
      "application/vnd.jupyter.widget-view+json": {
       "model_id": "aae978ebfb9f4f02b50dbd7c38b1bfaf",
       "version_major": 2,
       "version_minor": 0
      },
      "text/plain": [
       "HBox(children=(IntProgress(value=0, max=37), HTML(value=u'')))"
      ]
     },
     "metadata": {},
     "output_type": "display_data"
    },
    {
     "name": "stdout",
     "output_type": "stream",
     "text": [
      "('loss in epoch :', 0, 'dump/valid_10_1.pkl', 'loss :', 13869.82629469817, 'loss decoder: ', 13513.965114593506, 'loss kg: ', 355.8611801046645)\n"
     ]
    },
    {
     "data": {
      "application/vnd.jupyter.widget-view+json": {
       "model_id": "e48cba2e970a4a1a937a14c8a74e6dda",
       "version_major": 2,
       "version_minor": 0
      },
      "text/plain": [
       "HBox(children=(IntProgress(value=0, max=40), HTML(value=u'')))"
      ]
     },
     "metadata": {},
     "output_type": "display_data"
    },
    {
     "name": "stdout",
     "output_type": "stream",
     "text": [
      "('loss in epoch :', 0, 'dump/valid_6_1.pkl', 'loss :', 13972.627913507575, 'loss decoder: ', 13613.989841103554, 'loss kg: ', 358.63807240402093)\n"
     ]
    },
    {
     "data": {
      "application/vnd.jupyter.widget-view+json": {
       "model_id": "370f0d8df9dc457b80675468d48f4a08",
       "version_major": 2,
       "version_minor": 0
      },
      "text/plain": [
       "HBox(children=(IntProgress(value=0, max=36), HTML(value=u'')))"
      ]
     },
     "metadata": {},
     "output_type": "display_data"
    },
    {
     "name": "stdout",
     "output_type": "stream",
     "text": [
      "('loss in epoch :', 0, 'dump/valid_8_1.pkl', 'loss :', 14066.283228922402, 'loss decoder: ', 13705.02774477005, 'loss kg: ', 361.25548415235244)\n"
     ]
    },
    {
     "data": {
      "application/vnd.jupyter.widget-view+json": {
       "model_id": "3b3181e4668d440a93f05cff01ef9e75",
       "version_major": 2,
       "version_minor": 0
      },
      "text/plain": [
       "HBox(children=(IntProgress(value=0, max=43), HTML(value=u'')))"
      ]
     },
     "metadata": {},
     "output_type": "display_data"
    },
    {
     "name": "stdout",
     "output_type": "stream",
     "text": [
      "('loss in epoch :', 0, 'dump/valid_9_1.pkl', 'loss :', 14177.030143075157, 'loss decoder: ', 13812.467179894447, 'loss kg: ', 364.56296318070963)\n"
     ]
    },
    {
     "data": {
      "application/vnd.jupyter.widget-view+json": {
       "model_id": "bb31accc16794aeb8c5c36d6230dcedd",
       "version_major": 2,
       "version_minor": 0
      },
      "text/plain": [
       "HBox(children=(IntProgress(value=0, max=46), HTML(value=u'')))"
      ]
     },
     "metadata": {},
     "output_type": "display_data"
    },
    {
     "name": "stdout",
     "output_type": "stream",
     "text": [
      "('loss in epoch :', 0, 'dump/valid_11_1.pkl', 'loss :', 14294.547682633856, 'loss decoder: ', 13926.740353822708, 'loss kg: ', 367.8073288111482)\n"
     ]
    },
    {
     "data": {
      "application/vnd.jupyter.widget-view+json": {
       "model_id": "0cda6cd9e4144c34a9bb1eb4dffcfde3",
       "version_major": 2,
       "version_minor": 0
      },
      "text/plain": [
       "HBox(children=(IntProgress(value=0, max=40), HTML(value=u'')))"
      ]
     },
     "metadata": {},
     "output_type": "display_data"
    },
    {
     "name": "stdout",
     "output_type": "stream",
     "text": [
      "('loss in epoch :', 0, 'dump/valid_4_1.pkl', 'loss :', 14396.00848733657, 'loss decoder: ', 14025.341081023216, 'loss kg: ', 370.66740631335415)\n"
     ]
    },
    {
     "data": {
      "application/vnd.jupyter.widget-view+json": {
       "model_id": "ecb3abe4134c47caab3893014d079c34",
       "version_major": 2,
       "version_minor": 0
      },
      "text/plain": [
       "HBox(children=(IntProgress(value=0, max=46), HTML(value=u'')))"
      ]
     },
     "metadata": {},
     "output_type": "display_data"
    },
    {
     "name": "stdout",
     "output_type": "stream",
     "text": [
      "('loss in epoch :', 0, 'dump/valid_1_1.pkl', 'loss :', 14511.608770205523, 'loss decoder: ', 14137.72878742218, 'loss kg: ', 373.8799827833427)\n"
     ]
    },
    {
     "data": {
      "application/vnd.jupyter.widget-view+json": {
       "model_id": "cc08a6ab84644bb38119e9ed1d808ef7",
       "version_major": 2,
       "version_minor": 0
      },
      "text/plain": [
       "HBox(children=(IntProgress(value=0, max=44), HTML(value=u'')))"
      ]
     },
     "metadata": {},
     "output_type": "display_data"
    },
    {
     "name": "stdout",
     "output_type": "stream",
     "text": [
      "('loss in epoch :', 0, 'dump/valid_3_1.pkl', 'loss :', 14622.762200781028, 'loss decoder: ', 14245.491950511932, 'loss kg: ', 377.2702502690954)\n"
     ]
    },
    {
     "data": {
      "application/vnd.jupyter.widget-view+json": {
       "model_id": "37b7c215b3224a11b227c14027e7a124",
       "version_major": 2,
       "version_minor": 0
      },
      "text/plain": [
       "HBox(children=(IntProgress(value=0, max=34), HTML(value=u'')))"
      ]
     },
     "metadata": {},
     "output_type": "display_data"
    },
    {
     "name": "stdout",
     "output_type": "stream",
     "text": [
      "('loss in epoch :', 0, 'dump/valid_2_1.pkl', 'loss :', 14712.139459596772, 'loss decoder: ', 14331.95920419693, 'loss kg: ', 380.1802553998423)\n"
     ]
    },
    {
     "data": {
      "application/vnd.jupyter.widget-view+json": {
       "model_id": "ea27f5690d024218be51c413dbf789bf",
       "version_major": 2,
       "version_minor": 0
      },
      "text/plain": [
       "HBox(children=(IntProgress(value=0, max=42), HTML(value=u'')))"
      ]
     },
     "metadata": {},
     "output_type": "display_data"
    },
    {
     "name": "stdout",
     "output_type": "stream",
     "text": [
      "('loss in epoch :', 0, 'dump/valid_0_1.pkl', 'loss :', 14818.148490616644, 'loss decoder: ', 14434.841021895409, 'loss kg: ', 383.30746872123564)\n"
     ]
    },
    {
     "data": {
      "application/vnd.jupyter.widget-view+json": {
       "model_id": "a298962030914bd9a5da01f42f972c52",
       "version_major": 2,
       "version_minor": 0
      },
      "text/plain": [
       "HBox(children=(IntProgress(value=0, max=41), HTML(value=u'')))"
      ]
     },
     "metadata": {},
     "output_type": "display_data"
    },
    {
     "name": "stdout",
     "output_type": "stream",
     "text": [
      "('loss in epoch :', 0, 'dump/valid_5_1.pkl', 'loss :', 14921.457107179624, 'loss decoder: ', 14535.326909303665, 'loss kg: ', 386.1301978759584)\n"
     ]
    },
    {
     "data": {
      "application/vnd.jupyter.widget-view+json": {
       "model_id": "bc46f0ab98674326af9a1e4af6087813",
       "version_major": 2,
       "version_minor": 0
      },
      "text/plain": [
       "HBox(children=(IntProgress(value=0, max=208), HTML(value=u'')))"
      ]
     },
     "metadata": {},
     "output_type": "display_data"
    },
    {
     "name": "stdout",
     "output_type": "stream",
     "text": [
      "('Loss in testing', 'dump/test_preprocessed/test_data_file_verify.pkl', ': ', 0.0)\n"
     ]
    },
    {
     "data": {
      "application/vnd.jupyter.widget-view+json": {
       "model_id": "71b21a390eea43f7bfc442aabb9ab4c5",
       "version_major": 2,
       "version_minor": 0
      },
      "text/plain": [
       "HBox(children=(IntProgress(value=0, max=44), HTML(value=u'')))"
      ]
     },
     "metadata": {},
     "output_type": "display_data"
    },
    {
     "data": {
      "application/vnd.jupyter.widget-view+json": {
       "model_id": "e3c06c3ce3d84847af8990469569805b",
       "version_major": 2,
       "version_minor": 0
      },
      "text/plain": [
       "HBox(children=(IntProgress(value=0, max=140), HTML(value=u'')))"
      ]
     },
     "metadata": {},
     "output_type": "display_data"
    },
    {
     "name": "stdout",
     "output_type": "stream",
     "text": [
      "('loss in epoch :', 1, 'dump/train_13_1.pkl', 'loss :', 346.1739954518853, 'loss decoder: ', 336.21352100372314, 'loss kg: ', 9.960474448162131)\n"
     ]
    },
    {
     "data": {
      "application/vnd.jupyter.widget-view+json": {
       "model_id": "97794ad920db421087ae035a8d095ebe",
       "version_major": 2,
       "version_minor": 0
      },
      "text/plain": [
       "HBox(children=(IntProgress(value=0, max=151), HTML(value=u'')))"
      ]
     },
     "metadata": {},
     "output_type": "display_data"
    },
    {
     "name": "stdout",
     "output_type": "stream",
     "text": [
      "('loss in epoch :', 1, 'dump/train_27_1.pkl', 'loss :', 716.819837248011, 'loss decoder: ', 696.1116898059845, 'loss kg: ', 20.70814744202653)\n"
     ]
    },
    {
     "data": {
      "application/vnd.jupyter.widget-view+json": {
       "model_id": "517d5476dbe849628282a0e3f1c15333",
       "version_major": 2,
       "version_minor": 0
      },
      "text/plain": [
       "HBox(children=(IntProgress(value=0, max=142), HTML(value=u'')))"
      ]
     },
     "metadata": {},
     "output_type": "display_data"
    },
    {
     "name": "stdout",
     "output_type": "stream",
     "text": [
      "('loss in epoch :', 1, 'dump/train_10_1.pkl', 'loss :', 1072.14478301286, 'loss decoder: ', 1041.2524738311768, 'loss kg: ', 30.89230918168323)\n"
     ]
    },
    {
     "data": {
      "application/vnd.jupyter.widget-view+json": {
       "model_id": "1c734c4d64f94a61ac651b450ddc05fa",
       "version_major": 2,
       "version_minor": 0
      },
      "text/plain": [
       "HBox(children=(IntProgress(value=0, max=145), HTML(value=u'')))"
      ]
     },
     "metadata": {},
     "output_type": "display_data"
    },
    {
     "name": "stdout",
     "output_type": "stream",
     "text": [
      "('loss in epoch :', 1, 'dump/train_26_1.pkl', 'loss :', 1429.6165292641963, 'loss decoder: ', 1388.0230473279953, 'loss kg: ', 41.59348193620099)\n"
     ]
    },
    {
     "data": {
      "application/vnd.jupyter.widget-view+json": {
       "model_id": "eb56af24b8fe4d198db286afe683fc61",
       "version_major": 2,
       "version_minor": 0
      },
      "text/plain": [
       "HBox(children=(IntProgress(value=0, max=143), HTML(value=u'')))"
      ]
     },
     "metadata": {},
     "output_type": "display_data"
    },
    {
     "name": "stdout",
     "output_type": "stream",
     "text": [
      "('loss in epoch :', 1, 'dump/train_3_1.pkl', 'loss :', 1782.5617603169521, 'loss decoder: ', 1729.3127200603485, 'loss kg: ', 53.24904025660362)\n"
     ]
    },
    {
     "data": {
      "application/vnd.jupyter.widget-view+json": {
       "model_id": "35b8538da85844488fbff3df06a412e5",
       "version_major": 2,
       "version_minor": 0
      },
      "text/plain": [
       "HBox(children=(IntProgress(value=0, max=136), HTML(value=u'')))"
      ]
     },
     "metadata": {},
     "output_type": "display_data"
    },
    {
     "name": "stdout",
     "output_type": "stream",
     "text": [
      "('loss in epoch :', 1, 'dump/train_2_1.pkl', 'loss :', 2112.168308238499, 'loss decoder: ', 2049.477523326874, 'loss kg: ', 62.69078491162509)\n"
     ]
    },
    {
     "data": {
      "application/vnd.jupyter.widget-view+json": {
       "model_id": "42eeff7f7bb8468998437cd161a5f787",
       "version_major": 2,
       "version_minor": 0
      },
      "text/plain": [
       "HBox(children=(IntProgress(value=0, max=138), HTML(value=u'')))"
      ]
     },
     "metadata": {},
     "output_type": "display_data"
    },
    {
     "name": "stdout",
     "output_type": "stream",
     "text": [
      "('loss in epoch :', 1, 'dump/train_16_1.pkl', 'loss :', 2444.5499947373173, 'loss decoder: ', 2372.1777683496475, 'loss kg: ', 72.3722263876698)\n"
     ]
    },
    {
     "data": {
      "application/vnd.jupyter.widget-view+json": {
       "model_id": "1443157e3c7848a29067786f32652384",
       "version_major": 2,
       "version_minor": 0
      },
      "text/plain": [
       "HBox(children=(IntProgress(value=0, max=147), HTML(value=u'')))"
      ]
     },
     "metadata": {},
     "output_type": "display_data"
    },
    {
     "name": "stdout",
     "output_type": "stream",
     "text": [
      "('loss in epoch :', 1, 'dump/train_25_1.pkl', 'loss :', 2802.843638490711, 'loss decoder: ', 2719.9878693819046, 'loss kg: ', 82.85576910880627)\n"
     ]
    },
    {
     "data": {
      "application/vnd.jupyter.widget-view+json": {
       "model_id": "446969f7b00a48c1b83e0a79e0b68e02",
       "version_major": 2,
       "version_minor": 0
      },
      "text/plain": [
       "HBox(children=(IntProgress(value=0, max=115), HTML(value=u'')))"
      ]
     },
     "metadata": {},
     "output_type": "display_data"
    },
    {
     "name": "stdout",
     "output_type": "stream",
     "text": [
      "('loss in epoch :', 1, 'dump/train_30_1.pkl', 'loss :', 3073.8132373642875, 'loss decoder: ', 2982.953460216522, 'loss kg: ', 90.85977714776527)\n"
     ]
    },
    {
     "data": {
      "application/vnd.jupyter.widget-view+json": {
       "model_id": "4429ec71c01845a99479dc5396986b83",
       "version_major": 2,
       "version_minor": 0
      },
      "text/plain": [
       "HBox(children=(IntProgress(value=0, max=135), HTML(value=u'')))"
      ]
     },
     "metadata": {},
     "output_type": "display_data"
    },
    {
     "name": "stdout",
     "output_type": "stream",
     "text": [
      "('loss in epoch :', 1, 'dump/train_0_1.pkl', 'loss :', 3395.9454468929907, 'loss decoder: ', 3295.7214723825455, 'loss kg: ', 100.22397451044526)\n"
     ]
    },
    {
     "data": {
      "application/vnd.jupyter.widget-view+json": {
       "model_id": "ad812519c2054a3e9c17918e86798d60",
       "version_major": 2,
       "version_minor": 0
      },
      "text/plain": [
       "HBox(children=(IntProgress(value=0, max=152), HTML(value=u'')))"
      ]
     },
     "metadata": {},
     "output_type": "display_data"
    },
    {
     "name": "stdout",
     "output_type": "stream",
     "text": [
      "('loss in epoch :', 1, 'dump/train_1_1.pkl', 'loss :', 3758.736931750842, 'loss decoder: ', 3648.057350873947, 'loss kg: ', 110.67958087689476)\n"
     ]
    },
    {
     "data": {
      "application/vnd.jupyter.widget-view+json": {
       "model_id": "dba5765236ac4f0397fdb75b44a9be80",
       "version_major": 2,
       "version_minor": 0
      },
      "text/plain": [
       "HBox(children=(IntProgress(value=0, max=138), HTML(value=u'')))"
      ]
     },
     "metadata": {},
     "output_type": "display_data"
    },
    {
     "name": "stdout",
     "output_type": "stream",
     "text": [
      "('loss in epoch :', 1, 'dump/train_20_1.pkl', 'loss :', 4080.7358884415007, 'loss decoder: ', 3960.024661064148, 'loss kg: ', 120.71122737735277)\n"
     ]
    },
    {
     "data": {
      "application/vnd.jupyter.widget-view+json": {
       "model_id": "c4ed70bd37764da78cfc3b91171ab30b",
       "version_major": 2,
       "version_minor": 0
      },
      "text/plain": [
       "HBox(children=(IntProgress(value=0, max=148), HTML(value=u'')))"
      ]
     },
     "metadata": {},
     "output_type": "display_data"
    },
    {
     "name": "stdout",
     "output_type": "stream",
     "text": [
      "('loss in epoch :', 1, 'dump/train_21_1.pkl', 'loss :', 4423.806792529824, 'loss decoder: ', 4292.7663234472275, 'loss kg: ', 131.04046908259625)\n"
     ]
    },
    {
     "data": {
      "application/vnd.jupyter.widget-view+json": {
       "model_id": "bf1f449cef744ee49428085c5748bfc4",
       "version_major": 2,
       "version_minor": 0
      },
      "text/plain": [
       "HBox(children=(IntProgress(value=0, max=127), HTML(value=u'')))"
      ]
     },
     "metadata": {},
     "output_type": "display_data"
    },
    {
     "name": "stdout",
     "output_type": "stream",
     "text": [
      "('loss in epoch :', 1, 'dump/train_28_1.pkl', 'loss :', 4718.4752181269, 'loss decoder: ', 4578.283747792244, 'loss kg: ', 140.1914703346556)\n"
     ]
    },
    {
     "data": {
      "application/vnd.jupyter.widget-view+json": {
       "model_id": "ae5cc3c46d454d74aae4a0d335d3b36b",
       "version_major": 2,
       "version_minor": 0
      },
      "text/plain": [
       "HBox(children=(IntProgress(value=0, max=146), HTML(value=u'')))"
      ]
     },
     "metadata": {},
     "output_type": "display_data"
    },
    {
     "name": "stdout",
     "output_type": "stream",
     "text": [
      "('loss in epoch :', 1, 'dump/train_14_1.pkl', 'loss :', 5061.309896721912, 'loss decoder: ', 4910.798648238182, 'loss kg: ', 150.51124848373001)\n"
     ]
    },
    {
     "data": {
      "application/vnd.jupyter.widget-view+json": {
       "model_id": "7a44eba3c38342b3a7e4e28a4a62bb83",
       "version_major": 2,
       "version_minor": 0
      },
      "text/plain": [
       "HBox(children=(IntProgress(value=0, max=137), HTML(value=u'')))"
      ]
     },
     "metadata": {},
     "output_type": "display_data"
    },
    {
     "name": "stdout",
     "output_type": "stream",
     "text": [
      "('loss in epoch :', 1, 'dump/train_23_1.pkl', 'loss :', 5378.477263716923, 'loss decoder: ', 5218.484114766121, 'loss kg: ', 159.9931489508017)\n"
     ]
    },
    {
     "data": {
      "application/vnd.jupyter.widget-view+json": {
       "model_id": "14981ce5b9884722bca22ea8141261ff",
       "version_major": 2,
       "version_minor": 0
      },
      "text/plain": [
       "HBox(children=(IntProgress(value=0, max=144), HTML(value=u'')))"
      ]
     },
     "metadata": {},
     "output_type": "display_data"
    },
    {
     "name": "stdout",
     "output_type": "stream",
     "text": [
      "('loss in epoch :', 1, 'dump/train_11_1.pkl', 'loss :', 5707.263348283712, 'loss decoder: ', 5537.282125353813, 'loss kg: ', 169.98122292989865)\n"
     ]
    },
    {
     "data": {
      "application/vnd.jupyter.widget-view+json": {
       "model_id": "5bd60399d7994d078968afac0806efa5",
       "version_major": 2,
       "version_minor": 0
      },
      "text/plain": [
       "HBox(children=(IntProgress(value=0, max=142), HTML(value=u'')))"
      ]
     },
     "metadata": {},
     "output_type": "display_data"
    },
    {
     "name": "stdout",
     "output_type": "stream",
     "text": [
      "('loss in epoch :', 1, 'dump/train_18_1.pkl', 'loss :', 6030.528801915469, 'loss decoder: ', 5850.465625166893, 'loss kg: ', 180.06317674857564)\n"
     ]
    },
    {
     "data": {
      "application/vnd.jupyter.widget-view+json": {
       "model_id": "0dfda3c58ea44c64b90dea7b33dabe4c",
       "version_major": 2,
       "version_minor": 0
      },
      "text/plain": [
       "HBox(children=(IntProgress(value=0, max=138), HTML(value=u'')))"
      ]
     },
     "metadata": {},
     "output_type": "display_data"
    },
    {
     "name": "stdout",
     "output_type": "stream",
     "text": [
      "('loss in epoch :', 1, 'dump/train_12_1.pkl', 'loss :', 6346.496014835488, 'loss decoder: ', 6156.8506870269775, 'loss kg: ', 189.64532780851005)\n"
     ]
    },
    {
     "data": {
      "application/vnd.jupyter.widget-view+json": {
       "model_id": "25f9d31a246e4bd38923963c6604defd",
       "version_major": 2,
       "version_minor": 0
      },
      "text/plain": [
       "HBox(children=(IntProgress(value=0, max=136), HTML(value=u'')))"
      ]
     },
     "metadata": {},
     "output_type": "display_data"
    },
    {
     "name": "stdout",
     "output_type": "stream",
     "text": [
      "('loss in epoch :', 1, 'dump/train_29_1.pkl', 'loss :', 6651.356992862187, 'loss decoder: ', 6452.343513965607, 'loss kg: ', 199.01347889658064)\n"
     ]
    },
    {
     "data": {
      "application/vnd.jupyter.widget-view+json": {
       "model_id": "24b28d378e7e47ee8d8ed87cf6a6e0ea",
       "version_major": 2,
       "version_minor": 0
      },
      "text/plain": [
       "HBox(children=(IntProgress(value=0, max=143), HTML(value=u'')))"
      ]
     },
     "metadata": {},
     "output_type": "display_data"
    },
    {
     "name": "stdout",
     "output_type": "stream",
     "text": [
      "('loss in epoch :', 1, 'dump/train_22_1.pkl', 'loss :', 6972.117758934852, 'loss decoder: ', 6763.07366335392, 'loss kg: ', 209.04409558093175)\n"
     ]
    },
    {
     "data": {
      "application/vnd.jupyter.widget-view+json": {
       "model_id": "759c9ccae12a4e2495de6e49862968e6",
       "version_major": 2,
       "version_minor": 0
      },
      "text/plain": [
       "HBox(children=(IntProgress(value=0, max=159), HTML(value=u'')))"
      ]
     },
     "metadata": {},
     "output_type": "display_data"
    },
    {
     "name": "stdout",
     "output_type": "stream",
     "text": [
      "('loss in epoch :', 1, 'dump/train_19_1.pkl', 'loss :', 7322.796770955611, 'loss decoder: ', 7102.532668352127, 'loss kg: ', 220.26410260348348)\n"
     ]
    },
    {
     "data": {
      "application/vnd.jupyter.widget-view+json": {
       "model_id": "7c8301a090bb43359faacb46b7f6e40f",
       "version_major": 2,
       "version_minor": 0
      },
      "text/plain": [
       "HBox(children=(IntProgress(value=0, max=135), HTML(value=u'')))"
      ]
     },
     "metadata": {},
     "output_type": "display_data"
    },
    {
     "name": "stdout",
     "output_type": "stream",
     "text": [
      "('loss in epoch :', 1, 'dump/train_24_1.pkl', 'loss :', 7622.233437347459, 'loss decoder: ', 7392.544006824493, 'loss kg: ', 229.68943052296527)\n"
     ]
    },
    {
     "data": {
      "application/vnd.jupyter.widget-view+json": {
       "model_id": "e40b616345524be5a2310a16354691ea",
       "version_major": 2,
       "version_minor": 0
      },
      "text/plain": [
       "HBox(children=(IntProgress(value=0, max=141), HTML(value=u'')))"
      ]
     },
     "metadata": {},
     "output_type": "display_data"
    },
    {
     "name": "stdout",
     "output_type": "stream",
     "text": [
      "('loss in epoch :', 1, 'dump/train_9_1.pkl', 'loss :', 7933.623597827856, 'loss decoder: ', 7694.382388353348, 'loss kg: ', 239.24120947450865)\n"
     ]
    },
    {
     "data": {
      "application/vnd.jupyter.widget-view+json": {
       "model_id": "5ba8769d80f3459480d90be201698ec9",
       "version_major": 2,
       "version_minor": 0
      },
      "text/plain": [
       "HBox(children=(IntProgress(value=0, max=147), HTML(value=u'')))"
      ]
     },
     "metadata": {},
     "output_type": "display_data"
    },
    {
     "name": "stdout",
     "output_type": "stream",
     "text": [
      "('loss in epoch :', 1, 'dump/train_6_1.pkl', 'loss :', 8257.33226430422, 'loss decoder: ', 8007.85836315155, 'loss kg: ', 249.473901152669)\n"
     ]
    },
    {
     "data": {
      "application/vnd.jupyter.widget-view+json": {
       "model_id": "bf4abf40d1f446bc8cab02e7cf2fc8d3",
       "version_major": 2,
       "version_minor": 0
      },
      "text/plain": [
       "HBox(children=(IntProgress(value=0, max=144), HTML(value=u'')))"
      ]
     },
     "metadata": {},
     "output_type": "display_data"
    },
    {
     "name": "stdout",
     "output_type": "stream",
     "text": [
      "('loss in epoch :', 1, 'dump/train_4_1.pkl', 'loss :', 8572.851473158167, 'loss decoder: ', 8313.42444384098, 'loss kg: ', 259.4270293171867)\n"
     ]
    },
    {
     "data": {
      "application/vnd.jupyter.widget-view+json": {
       "model_id": "958dfb65988047b99e1cb6c35f5e96a0",
       "version_major": 2,
       "version_minor": 0
      },
      "text/plain": [
       "HBox(children=(IntProgress(value=0, max=138), HTML(value=u'')))"
      ]
     },
     "metadata": {},
     "output_type": "display_data"
    },
    {
     "name": "stdout",
     "output_type": "stream",
     "text": [
      "('loss in epoch :', 1, 'dump/train_17_1.pkl', 'loss :', 8875.459036055952, 'loss decoder: ', 8606.532435059547, 'loss kg: ', 268.9266009964049)\n"
     ]
    },
    {
     "data": {
      "application/vnd.jupyter.widget-view+json": {
       "model_id": "e9d1e40d168949feb9ced2c0bc7a7031",
       "version_major": 2,
       "version_minor": 0
      },
      "text/plain": [
       "HBox(children=(IntProgress(value=0, max=144), HTML(value=u'')))"
      ]
     },
     "metadata": {},
     "output_type": "display_data"
    },
    {
     "name": "stdout",
     "output_type": "stream",
     "text": [
      "('loss in epoch :', 1, 'dump/train_5_1.pkl', 'loss :', 9186.664493746182, 'loss decoder: ', 8907.665618896484, 'loss kg: ', 278.99887484969804)\n"
     ]
    },
    {
     "data": {
      "application/vnd.jupyter.widget-view+json": {
       "model_id": "81f68195333243d1a4a47d06cf4ff94e",
       "version_major": 2,
       "version_minor": 0
      },
      "text/plain": [
       "HBox(children=(IntProgress(value=0, max=132), HTML(value=u'')))"
      ]
     },
     "metadata": {},
     "output_type": "display_data"
    },
    {
     "name": "stdout",
     "output_type": "stream",
     "text": [
      "('loss in epoch :', 1, 'dump/train_8_1.pkl', 'loss :', 9471.477214559447, 'loss decoder: ', 9183.619623541832, 'loss kg: ', 287.85759101761505)\n"
     ]
    },
    {
     "data": {
      "application/vnd.jupyter.widget-view+json": {
       "model_id": "cfd8b1522e0d4a88b5aa1a19664ea594",
       "version_major": 2,
       "version_minor": 0
      },
      "text/plain": [
       "HBox(children=(IntProgress(value=0, max=140), HTML(value=u'')))"
      ]
     },
     "metadata": {},
     "output_type": "display_data"
    },
    {
     "name": "stdout",
     "output_type": "stream",
     "text": [
      "('loss in epoch :', 1, 'dump/train_15_1.pkl', 'loss :', 9769.742586741631, 'loss decoder: ', 9472.306563258171, 'loss kg: ', 297.4360234834603)\n"
     ]
    },
    {
     "data": {
      "application/vnd.jupyter.widget-view+json": {
       "model_id": "0b3782bfb5e04de5994e203b7ddeb620",
       "version_major": 2,
       "version_minor": 0
      },
      "text/plain": [
       "HBox(children=(IntProgress(value=0, max=140), HTML(value=u'')))"
      ]
     },
     "metadata": {},
     "output_type": "display_data"
    },
    {
     "name": "stdout",
     "output_type": "stream",
     "text": [
      "('loss in epoch :', 1, 'dump/train_7_1.pkl', 'loss :', 10068.490115780267, 'loss decoder: ', 9761.336531043053, 'loss kg: ', 307.15358473721426)\n"
     ]
    },
    {
     "data": {
      "application/vnd.jupyter.widget-view+json": {
       "model_id": "eb285b32d03f4bf79a4f43002e2764c8",
       "version_major": 2,
       "version_minor": 0
      },
      "text/plain": [
       "HBox(children=(IntProgress(value=0, max=36), HTML(value=u'')))"
      ]
     },
     "metadata": {},
     "output_type": "display_data"
    },
    {
     "name": "stdout",
     "output_type": "stream",
     "text": [
      "('loss in epoch :', 1, 'dump/valid_7_1.pkl', 'loss :', 10146.277842697862, 'loss decoder: ', 9836.61933708191, 'loss kg: ', 309.6585056159529)\n"
     ]
    },
    {
     "data": {
      "application/vnd.jupyter.widget-view+json": {
       "model_id": "8659fbd57560486db679583498d1817a",
       "version_major": 2,
       "version_minor": 0
      },
      "text/plain": [
       "HBox(children=(IntProgress(value=0, max=37), HTML(value=u'')))"
      ]
     },
     "metadata": {},
     "output_type": "display_data"
    },
    {
     "name": "stdout",
     "output_type": "stream",
     "text": [
      "('loss in epoch :', 1, 'dump/valid_10_1.pkl', 'loss :', 10227.588276475319, 'loss decoder: ', 9915.447060585022, 'loss kg: ', 312.14121589029673)\n"
     ]
    },
    {
     "data": {
      "application/vnd.jupyter.widget-view+json": {
       "model_id": "33f5b89bb11c4a70a23abb2bb4a26813",
       "version_major": 2,
       "version_minor": 0
      },
      "text/plain": [
       "HBox(children=(IntProgress(value=0, max=40), HTML(value=u'')))"
      ]
     },
     "metadata": {},
     "output_type": "display_data"
    },
    {
     "name": "stdout",
     "output_type": "stream",
     "text": [
      "('loss in epoch :', 1, 'dump/valid_6_1.pkl', 'loss :', 10312.334101529705, 'loss decoder: ', 9997.596675515175, 'loss kg: ', 314.7374260145298)\n"
     ]
    },
    {
     "data": {
      "application/vnd.jupyter.widget-view+json": {
       "model_id": "fba791d52849408590397784b4365197",
       "version_major": 2,
       "version_minor": 0
      },
      "text/plain": [
       "HBox(children=(IntProgress(value=0, max=36), HTML(value=u'')))"
      ]
     },
     "metadata": {},
     "output_type": "display_data"
    },
    {
     "name": "stdout",
     "output_type": "stream",
     "text": [
      "('loss in epoch :', 1, 'dump/valid_8_1.pkl', 'loss :', 10389.311082392669, 'loss decoder: ', 10072.163518548012, 'loss kg: ', 317.14756384465727)\n"
     ]
    },
    {
     "data": {
      "application/vnd.jupyter.widget-view+json": {
       "model_id": "a7bb1d74b7e748e58dc8dccf2e50a9a7",
       "version_major": 2,
       "version_minor": 0
      },
      "text/plain": [
       "HBox(children=(IntProgress(value=0, max=43), HTML(value=u'')))"
      ]
     },
     "metadata": {},
     "output_type": "display_data"
    },
    {
     "name": "stdout",
     "output_type": "stream",
     "text": [
      "('loss in epoch :', 1, 'dump/valid_9_1.pkl', 'loss :', 10479.729569163523, 'loss decoder: ', 10159.75135231018, 'loss kg: ', 319.978216853342)\n"
     ]
    },
    {
     "data": {
      "application/vnd.jupyter.widget-view+json": {
       "model_id": "364d799531074e40a2cba3eb3ec37031",
       "version_major": 2,
       "version_minor": 0
      },
      "text/plain": [
       "HBox(children=(IntProgress(value=0, max=46), HTML(value=u'')))"
      ]
     },
     "metadata": {},
     "output_type": "display_data"
    },
    {
     "name": "stdout",
     "output_type": "stream",
     "text": [
      "('loss in epoch :', 1, 'dump/valid_11_1.pkl', 'loss :', 10576.52721554134, 'loss decoder: ', 10253.397666931152, 'loss kg: ', 323.12954861018807)\n"
     ]
    },
    {
     "data": {
      "application/vnd.jupyter.widget-view+json": {
       "model_id": "5d850e6f70a344e6be97bbf9a53ccb5f",
       "version_major": 2,
       "version_minor": 0
      },
      "text/plain": [
       "HBox(children=(IntProgress(value=0, max=40), HTML(value=u'')))"
      ]
     },
     "metadata": {},
     "output_type": "display_data"
    },
    {
     "name": "stdout",
     "output_type": "stream",
     "text": [
      "('loss in epoch :', 1, 'dump/valid_4_1.pkl', 'loss :', 10659.382901351433, 'loss decoder: ', 10333.538761019707, 'loss kg: ', 325.8441403317265)\n"
     ]
    },
    {
     "data": {
      "application/vnd.jupyter.widget-view+json": {
       "model_id": "8d89c746ed2549d19bec88b7602ad96e",
       "version_major": 2,
       "version_minor": 0
      },
      "text/plain": [
       "HBox(children=(IntProgress(value=0, max=46), HTML(value=u'')))"
      ]
     },
     "metadata": {},
     "output_type": "display_data"
    },
    {
     "name": "stdout",
     "output_type": "stream",
     "text": [
      "('loss in epoch :', 1, 'dump/valid_1_1.pkl', 'loss :', 10755.061350158707, 'loss decoder: ', 10426.214575648308, 'loss kg: ', 328.846774510399)\n"
     ]
    },
    {
     "data": {
      "application/vnd.jupyter.widget-view+json": {
       "model_id": "9be544f18f554981942f7e5d7b1432a0",
       "version_major": 2,
       "version_minor": 0
      },
      "text/plain": [
       "HBox(children=(IntProgress(value=0, max=44), HTML(value=u'')))"
      ]
     },
     "metadata": {},
     "output_type": "display_data"
    },
    {
     "name": "stdout",
     "output_type": "stream",
     "text": [
      "('loss in epoch :', 1, 'dump/valid_3_1.pkl', 'loss :', 10845.939272079035, 'loss decoder: ', 10514.155758619308, 'loss kg: ', 331.78351345972624)\n"
     ]
    },
    {
     "data": {
      "application/vnd.jupyter.widget-view+json": {
       "model_id": "47ada24ed4d041a8b7cf3a7ff62c97d0",
       "version_major": 2,
       "version_minor": 0
      },
      "text/plain": [
       "HBox(children=(IntProgress(value=0, max=34), HTML(value=u'')))"
      ]
     },
     "metadata": {},
     "output_type": "display_data"
    },
    {
     "name": "stdout",
     "output_type": "stream",
     "text": [
      "('loss in epoch :', 1, 'dump/valid_2_1.pkl', 'loss :', 10919.45948273124, 'loss decoder: ', 10585.376238942146, 'loss kg: ', 334.0832437890931)\n"
     ]
    },
    {
     "data": {
      "application/vnd.jupyter.widget-view+json": {
       "model_id": "25b69db59a6a48a18836eb925a92234b",
       "version_major": 2,
       "version_minor": 0
      },
      "text/plain": [
       "HBox(children=(IntProgress(value=0, max=42), HTML(value=u'')))"
      ]
     },
     "metadata": {},
     "output_type": "display_data"
    },
    {
     "name": "stdout",
     "output_type": "stream",
     "text": [
      "('loss in epoch :', 1, 'dump/valid_0_1.pkl', 'loss :', 11006.902993885917, 'loss decoder: ', 10669.673174023628, 'loss kg: ', 337.2298198622884)\n"
     ]
    },
    {
     "data": {
      "application/vnd.jupyter.widget-view+json": {
       "model_id": "6d1510f8c7f14b6c91b345b4ceac49a4",
       "version_major": 2,
       "version_minor": 0
      },
      "text/plain": [
       "HBox(children=(IntProgress(value=0, max=41), HTML(value=u'')))"
      ]
     },
     "metadata": {},
     "output_type": "display_data"
    },
    {
     "name": "stdout",
     "output_type": "stream",
     "text": [
      "('loss in epoch :', 1, 'dump/valid_5_1.pkl', 'loss :', 11092.82101140084, 'loss decoder: ', 10752.870062828064, 'loss kg: ', 339.9509485727758)\n"
     ]
    },
    {
     "data": {
      "application/vnd.jupyter.widget-view+json": {
       "model_id": "e84bdfb9055b4a78a49e743be86e8746",
       "version_major": 2,
       "version_minor": 0
      },
      "text/plain": [
       "HBox(children=(IntProgress(value=0, max=208), HTML(value=u'')))"
      ]
     },
     "metadata": {},
     "output_type": "display_data"
    },
    {
     "name": "stdout",
     "output_type": "stream",
     "text": [
      "('Loss in testing', 'dump/test_preprocessed/test_data_file_verify.pkl', ': ', 0.0)\n"
     ]
    },
    {
     "data": {
      "application/vnd.jupyter.widget-view+json": {
       "model_id": "dfc0b7419cb44d788a79f858d4b04193",
       "version_major": 2,
       "version_minor": 0
      },
      "text/plain": [
       "HBox(children=(IntProgress(value=0, max=44), HTML(value=u'')))"
      ]
     },
     "metadata": {},
     "output_type": "display_data"
    },
    {
     "data": {
      "application/vnd.jupyter.widget-view+json": {
       "model_id": "cb0e2a5c7ce44a4e87051da11619bc80",
       "version_major": 2,
       "version_minor": 0
      },
      "text/plain": [
       "HBox(children=(IntProgress(value=0, max=140), HTML(value=u'')))"
      ]
     },
     "metadata": {},
     "output_type": "display_data"
    }
   ],
   "source": [
    "\n",
    "for e in range(20):\n",
    "    total_loss = 0\n",
    "    total_kg_loss = 0\n",
    "    total_dec_loss = 0\n",
    "    accuracy_ = 0 \n",
    "    count_accuracy = 0\n",
    "    \n",
    "    for file in tqdm_notebook(training_files):\n",
    "        t = pkl.load(open(file, 'rb'))\n",
    "        t = padded_candidates(t)\n",
    "        np.random.shuffle(t)\n",
    "        n_batches = (len(t)//128)\n",
    "        t = sorted(t, key = lambda x : -1 *len(x[6].split('|')))\n",
    "        \n",
    "        for i in tqdm_notebook(range(1, n_batches+1)):\n",
    "            \n",
    "            if file != testing_file:\n",
    "                model_.module.dec.set_tc_ratio(1/(1+i/(n_batches)))\n",
    "            else:\n",
    "                model_.module.dec.set_tc_ratio(0)\n",
    "                \n",
    "            u1_text, u1_kb, u2_text, u2_kb, target_kb, target_utterance,\\\n",
    "                                cand_ent, cand_rel, cand_val, c, mem_weights\\\n",
    "                = mini_batch_processing(t[ (i-1) * 128 : i *128])\n",
    "\n",
    "            u1_text = np.flip(u1_text, axis = 1).copy()\n",
    "            u1_kb = np.flip(u1_kb, axis = 1).copy()\n",
    "\n",
    "            u2_text = np.flip(u2_text, axis = 1).copy()\n",
    "            u2_kb = np.flip(u2_kb, axis = 1).copy()\n",
    "\n",
    "            u1_text = torch.LongTensor(u1_text).cuda()\n",
    "            u2_text = torch.LongTensor(u2_text).cuda()\n",
    "\n",
    "            u1_kb = torch.FloatTensor(ent_embed[u1_kb]).cuda()\n",
    "            u2_kb = torch.FloatTensor(ent_embed[u2_kb]).cuda()\n",
    "            system_utterance = target_utterance\n",
    "            target_utterance = torch.LongTensor(target_utterance).cuda()\n",
    "\n",
    "            cand_ent_embed  = torch.FloatTensor(ent_embed[cand_ent]).cuda()\n",
    "            cand_rel_embed  = torch.FloatTensor(rel_embed[cand_rel]).cuda()\n",
    "            cand_val_embed  = torch.FloatTensor(ent_embed[cand_val]).cuda()\n",
    "            cand_pred_embed = torch.FloatTensor(ent_embed[cand_val]).cuda()\n",
    "            mem_weights = torch.FloatTensor(mem_weights).cuda()\n",
    "            \n",
    "            if file != testing_file :\n",
    "                #for stage in range(2):\n",
    "                pred = model_(u1_text, u1_kb, u2_text, u2_kb,target_utterance,\\\n",
    "                                cand_ent_embed, cand_rel_embed, cand_val_embed, mem_weights )\n",
    "\n",
    "                pred_text = pred[0]\n",
    "                pred_kg = pred[1]\n",
    "                \n",
    "                #if torch.isnan(pred_text).sum() or torch.isnan(pred_text).sum()  > 0 :\n",
    "                #break\n",
    "                    \n",
    "                #    if stage == 0 :\n",
    "                pred_text = pred_text[:, :-1, :].contiguous().view(-1, pred_text.size(2))\n",
    "                u3 = target_utterance[:, 1:].contiguous().view(-1)\n",
    "\n",
    "                dec_loss = loss_dec(pred_text, u3)\n",
    "                n_tokens = u3.ne(3).long().sum().item()\n",
    "                dec_loss = dec_loss / n_tokens\n",
    "                        \n",
    "                #optimizer_dec_loss.zero_grad()\n",
    "\n",
    "                #dec_loss.backward()\n",
    "                #torch.nn.utils.clip_grad_norm_(param_dec_loss, 0.1)\n",
    "                #optimizer_dec_loss.step()\n",
    "                #else:\n",
    "                c = torch.FloatTensor(c)/(0.00000001 + torch.FloatTensor(c).sum(dim = 1).unsqueeze(1)  )\n",
    "                c = c.cuda()\n",
    "                \n",
    "                pred_kg = softmax(pred_kg) * mem_weights + 0.00000000001\n",
    "                normalizer = pred_kg.sum(dim = 1).unsqueeze(1)\n",
    "                pred_kg_log =  torch.log( pred_kg  / normalizer )\n",
    "\n",
    "                kg_loss = -1 * (pred_kg_log * c).mean() \n",
    "\n",
    "                #optimizer_kg_loss.zero_grad()\n",
    "                #kg_loss.backward()\n",
    "                #torch.nn.utils.clip_grad_norm_(param_kg_loss, 0.1)\n",
    "                #optimizer_kg_loss.step()\n",
    "\n",
    "                loss = kg_loss   + dec_loss\n",
    "                optimizer.zero_grad()\n",
    "                loss.backward()\n",
    "                torch.nn.utils.clip_grad_norm_(param, 0.1)\n",
    "                optimizer.step()\n",
    "                \n",
    "                total_loss = total_loss + kg_loss.item() + dec_loss.item()\n",
    "                total_kg_loss = total_kg_loss + kg_loss.item()\n",
    "                total_dec_loss = total_dec_loss + dec_loss.item()\n",
    "            else :\n",
    "                pred = model_(u1_text, u1_kb, u2_text, u2_kb,target_utterance,\\\n",
    "                                    cand_ent_embed, cand_rel_embed, cand_val_embed, mem_weights)\n",
    "\n",
    "                pred_text = pred[0]\n",
    "                _, pos = torch.topk(pred_text,1, dim=2)\n",
    "                pos.squeeze_(dim=2) \n",
    "                pos = np.array(pos.tolist())\n",
    "                accuracy_ = accuracy_ + sum((system_utterance[:, 1:3 ] == pos[:,0:2]).sum(axis= 1)==2)\n",
    "                count_accuracy = count_accuracy + pos.shape[0]\n",
    "                \n",
    "        #print(\"loss in epoch :\", e, file, \"loss :\", total_loss, \"loss decoder: \", \\\n",
    "        #              total_dec_loss, \"loss kg: \", total_kg_loss)\n",
    "        \n",
    "        #print(q.var(dim=0).min().item(), q.var(dim=0).max().item()  )\n",
    "        if file != testing_file :\n",
    "            print(\"loss in epoch :\", e, file, \"loss :\", total_loss, \"loss decoder: \", \\\n",
    "                      total_dec_loss, \"loss kg: \", total_kg_loss)\n",
    "        else :\n",
    "            print(\"Loss in testing\", file, \": \", accuracy_*1./ count_accuracy)\n",
    "        \n",
    "    #np.random.shuffle(training_files)\n",
    "    torch.save( model_.module.state_dict(),'ddtrain.pt')"
   ]
  },
  {
   "cell_type": "code",
   "execution_count": null,
   "metadata": {},
   "outputs": [],
   "source": []
  }
 ],
 "metadata": {
  "kernelspec": {
   "display_name": "Python 2",
   "language": "python",
   "name": "python2"
  },
  "language_info": {
   "codemirror_mode": {
    "name": "ipython",
    "version": 2
   },
   "file_extension": ".py",
   "mimetype": "text/x-python",
   "name": "python",
   "nbconvert_exporter": "python",
   "pygments_lexer": "ipython2",
   "version": "2.7.14"
  }
 },
 "nbformat": 4,
 "nbformat_minor": 2
}
