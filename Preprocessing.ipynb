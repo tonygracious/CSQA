{
 "cells": [
  {
   "cell_type": "code",
   "execution_count": 1,
   "metadata": {},
   "outputs": [],
   "source": [
    "from model import *"
   ]
  },
  {
   "cell_type": "code",
   "execution_count": 2,
   "metadata": {},
   "outputs": [],
   "source": [
    "import torch"
   ]
  },
  {
   "cell_type": "code",
   "execution_count": 3,
   "metadata": {},
   "outputs": [
    {
     "name": "stdout",
     "output_type": "stream",
     "text": [
      "0.4.0\n"
     ]
    }
   ],
   "source": [
    "print(torch.__version__)"
   ]
  },
  {
   "cell_type": "code",
   "execution_count": 4,
   "metadata": {},
   "outputs": [],
   "source": [
    "import pickle as pkl"
   ]
  },
  {
   "cell_type": "code",
   "execution_count": 26,
   "metadata": {},
   "outputs": [],
   "source": [
    "vocab = pkl.load(open('vocabs/vocab.pkl', 'rb'))\n",
    "response_vocab =  pkl.load(open('vocabs/response_vocab.pkl', 'rb'))"
   ]
  },
  {
   "cell_type": "code",
   "execution_count": 23,
   "metadata": {},
   "outputs": [],
   "source": [
    "import pickle as pkl\n",
    "import json, codecs\n",
    "import gensim\n",
    "import numpy as np"
   ]
  },
  {
   "cell_type": "code",
   "execution_count": 30,
   "metadata": {},
   "outputs": [],
   "source": [
    "word2vec_pretrain_embed = gensim.models.KeyedVectors.load_word2vec_format('glove_dir/GoogleNews-vectors-negative300.bin', binary=True)"
   ]
  },
  {
   "cell_type": "code",
   "execution_count": 31,
   "metadata": {},
   "outputs": [],
   "source": [
    "vocab_size = len(vocab)\n",
    "response_vocab_size = len(response_vocab)"
   ]
  },
  {
   "cell_type": "code",
   "execution_count": 32,
   "metadata": {},
   "outputs": [],
   "source": [
    "vocab_init_embed = np.empty([len(vocab.keys()), 300],dtype=np.float32)"
   ]
  },
  {
   "cell_type": "code",
   "execution_count": 33,
   "metadata": {},
   "outputs": [],
   "source": [
    "for i in range(vocab_init_embed.shape[0]):\n",
    "    if vocab[i] in word2vec_pretrain_embed:\n",
    "        vocab_init_embed[i,:] = word2vec_pretrain_embed[vocab[i]]\n",
    "    elif i == 3: # KB word\n",
    "        vocab_init_embed[i,:] = np.zeros((1,vocab_init_embed.shape[1]),dtype=np.float32)\n",
    "            #vocab_init_embed[i,:] = np.zeros(1,vocab_init_embed.shape[1])\n",
    "    else:\n",
    "        vocab_init_embed[i,:] = np.random.rand(1,vocab_init_embed.shape[1]).astype(np.float32)\n",
    "            #vocab_init_embed[i,:] = np.random.rand(1,vocab_init_embed.shape[1])\n",
    "   \n"
   ]
  },
  {
   "cell_type": "code",
   "execution_count": 34,
   "metadata": {},
   "outputs": [],
   "source": [
    "vocab_decode_embed = np.empty([len(response_vocab.keys()), 300], dtype = np.float32)"
   ]
  },
  {
   "cell_type": "code",
   "execution_count": 35,
   "metadata": {},
   "outputs": [],
   "source": [
    "for i in range(vocab_decode_embed.shape[0]):\n",
    "    if response_vocab[i] in word2vec_pretrain_embed:\n",
    "        vocab_decode_embed[i,:] = word2vec_pretrain_embed[response_vocab[i]]\n",
    "    elif i == 3: # KB word\n",
    "        vocab_decode_embed[i,:] = np.zeros((1,vocab_decode_embed.shape[1]),dtype=np.float32)\n",
    "            #vocab_init_embed[i,:] = np.zeros(1,vocab_init_embed.shape[1])\n",
    "    else:\n",
    "        vocab_decode_embed[i,:] = np.random.rand(1,vocab_decode_embed.shape[1]).astype(np.float32)\n",
    "            #vocab_init_embed[i,:] = np.random.rand(1,vocab_init_embed.shape[1])\n",
    " "
   ]
  },
  {
   "cell_type": "code",
   "execution_count": 36,
   "metadata": {},
   "outputs": [],
   "source": [
    "mkdir Preprocessing_files"
   ]
  },
  {
   "cell_type": "code",
   "execution_count": 37,
   "metadata": {},
   "outputs": [],
   "source": [
    "pkl.dump([vocab_init_embed, vocab_decode_embed], open('Preprocessing_files/embedding_words2.pkl', 'wb'))"
   ]
  },
  {
   "cell_type": "code",
   "execution_count": null,
   "metadata": {},
   "outputs": [],
   "source": []
  }
 ],
 "metadata": {
  "kernelspec": {
   "display_name": "Python 2",
   "language": "python",
   "name": "python2"
  },
  "language_info": {
   "codemirror_mode": {
    "name": "ipython",
    "version": 2
   },
   "file_extension": ".py",
   "mimetype": "text/x-python",
   "name": "python",
   "nbconvert_exporter": "python",
   "pygments_lexer": "ipython2",
   "version": "2.7.14"
  }
 },
 "nbformat": 4,
 "nbformat_minor": 2
}
